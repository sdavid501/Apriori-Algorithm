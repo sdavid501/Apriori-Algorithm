{
 "cells": [
  {
   "cell_type": "code",
   "execution_count": 1,
   "metadata": {},
   "outputs": [],
   "source": [
    "import pandas as pd\n",
    "import numpy as np\n",
    "from itertools import combinations\n"
   ]
  },
  {
   "cell_type": "markdown",
   "metadata": {},
   "source": [
    "# Data Selection Instruction"
   ]
  },
  {
   "cell_type": "code",
   "execution_count": 2,
   "metadata": {},
   "outputs": [
    {
     "name": "stdout",
     "output_type": "stream",
     "text": [
      "=====================  Welcome to Apriori Algorithm Module  ====================== \n",
      "\n",
      "Select database: \n",
      "For Amazon, press 1\n",
      "For Nike, press 2\n",
      "For K-Mart press 3\n",
      "For Best Buy, press 4\n",
      "For Generic Data, press 5\n",
      "For Custom Data, press 6\n",
      "For Homework 1 Data, press 7\n",
      "1\n",
      "You've selected Amazon database\n"
     ]
    }
   ],
   "source": [
    "print(\"=====================  Welcome to Apriori Algorithm Module  ======================\", \"\\n\")\n",
    "print(\"Select database: \")\n",
    "print(\"For Amazon, press 1\")\n",
    "print(\"For Nike, press 2\")\n",
    "print(\"For K-Mart press 3\")\n",
    "print(\"For Best Buy, press 4\")\n",
    "print(\"For Generic Data, press 5\")\n",
    "print(\"For Custom Data, press 6\")\n",
    "print(\"For Homework 1 Data, press 7\")\n",
    "\n",
    "while True:\n",
    "    try:\n",
    "        selectedDatabase = int(input())\n",
    "    except:\n",
    "        print(\"Please select a valid number\")\n",
    "        continue\n",
    "    if selectedDatabase == 1:\n",
    "        print(\"You've selected Amazon database\")\n",
    "        data = pd.read_csv(\"Amazon.csv\")\n",
    "        transaction = pd.read_csv(\"AmazonTransactions.csv\")\n",
    "        break\n",
    "    elif selectedDatabase == 2:\n",
    "        print(\"You've selected Nike database\")\n",
    "        data = pd.read_csv(\"Nike.csv\")\n",
    "        transaction = pd.read_csv(\"NikeTransactions.csv\")\n",
    "        break\n",
    "    elif selectedDatabase == 3:\n",
    "        print(\"You've selected K-Mart database\")\n",
    "        data = pd.read_csv(\"K-mart.csv\")\n",
    "        transaction = pd.read_csv(\"KMartTransactions.csv\")\n",
    "        break\n",
    "    elif selectedDatabase == 4:\n",
    "        print(\"You've selected Best Buy database\")\n",
    "        data = pd.read_csv(\"BestBuy.csv\")\n",
    "        transaction = pd.read_csv(\"BestBuyTransactions.csv\")\n",
    "        break\n",
    "    elif selectedDatabase == 5:\n",
    "        print(\"You've selected Generic database\")\n",
    "        data = pd.read_csv(\"Generic.csv\")\n",
    "        transaction = pd.read_csv(\"GenericTransactions.csv\")\n",
    "        break\n",
    "    elif selectedDatabase == 6:\n",
    "        print(\"You've selected Custom database\")\n",
    "        data = pd.read_csv(\"CustomData.csv\")\n",
    "        transaction = pd.read_csv(\"CustomDataTransactions.csv\")\n",
    "        break\n",
    "    elif selectedDatabase == 7:\n",
    "        print(\"You've selected Homework 1 database\")\n",
    "        data = pd.read_csv(\"Hw1.csv\")\n",
    "        transaction = pd.read_csv(\"Hw1Transactions.csv\")\n",
    "        break\n",
    "    else:\n",
    "        print(\"Please select a valid number from the options above\")"
   ]
  },
  {
   "cell_type": "markdown",
   "metadata": {},
   "source": [
    "# Enter minimum support and confirmation"
   ]
  },
  {
   "cell_type": "code",
   "execution_count": 3,
   "metadata": {},
   "outputs": [
    {
     "name": "stdout",
     "output_type": "stream",
     "text": [
      "Set minimum support (%):\n",
      "40\n",
      "You've set the minimum support as  40.0 %\n",
      "enter Y to continue or enter any other character to change the minimum support\n",
      "y\n"
     ]
    }
   ],
   "source": [
    "ms = \"N\"\n",
    "while not(ms == \"Y\" or ms == \"y\"):\n",
    "    print(\"Set minimum support (%):\")\n",
    "    try:\n",
    "        minSupport = float(input())\n",
    "    except:\n",
    "        print(\"Please enter a valid number\")\n",
    "        continue\n",
    "    print(\"You've set the minimum support as \", minSupport, \"%\")\n",
    "    if(minSupport > 100): \n",
    "        print(\"The minimum support can't be greater than 100%\")\n",
    "        continue\n",
    "    print(\"enter Y to continue or enter any other character to change the minimum support\")\n",
    "    ms = input()"
   ]
  },
  {
   "cell_type": "markdown",
   "metadata": {},
   "source": [
    "# Enter Confidence and Confirmation"
   ]
  },
  {
   "cell_type": "code",
   "execution_count": 4,
   "metadata": {},
   "outputs": [
    {
     "name": "stdout",
     "output_type": "stream",
     "text": [
      "Set confidence (%):\n",
      "60\n",
      "You've set the confidence as  60.0 %\n",
      "enter Y to continue or enter any other character to change the confidence\n",
      "\n",
      "Set confidence (%):\n",
      "60\n",
      "You've set the confidence as  60.0 %\n",
      "enter Y to continue or enter any other character to change the confidence\n",
      "y\n"
     ]
    }
   ],
   "source": [
    "ms = \"N\"\n",
    "while not(ms == \"Y\" or ms == \"y\"):\n",
    "    print(\"Set confidence (%):\")\n",
    "    try:\n",
    "        confidence = float(input())\n",
    "    except:\n",
    "        print(\"Please enter a valid number\")\n",
    "        continue\n",
    "    print(\"You've set the confidence as \", confidence, \"%\")\n",
    "    if(confidence > 100): \n",
    "        print(\"The confidence can't be greater than 100%\")\n",
    "        continue\n",
    "    print(\"enter Y to continue or enter any other character to change the confidence\")\n",
    "    ms = input()"
   ]
  },
  {
   "cell_type": "markdown",
   "metadata": {},
   "source": [
    "# Preprocessing and Data cleaning"
   ]
  },
  {
   "cell_type": "code",
   "execution_count": 5,
   "metadata": {},
   "outputs": [],
   "source": [
    "dataDict = {}\n",
    "transactions = []\n",
    "itemsets = []\n",
    "\n",
    "for i in data[data.columns[-1]]:\n",
    "    itemsets.append(i.upper())\n",
    "\n",
    "for trans in transaction[transaction.columns[-1]]:\n",
    "    trans = trans.split(',')\n",
    "    trans = [i.upper().strip() for i in trans]\n",
    "    transactions.append(trans)\n"
   ]
  },
  {
   "cell_type": "markdown",
   "metadata": {},
   "source": [
    "# Calculating the count of each combination of items in the transactions"
   ]
  },
  {
   "cell_type": "code",
   "execution_count": 6,
   "metadata": {},
   "outputs": [],
   "source": [
    "minSupportValue = int(np.ceil(minSupport/100 * len(transaction)))\n",
    "status = True\n",
    "combCount = 1\n",
    "dataDict = {}\n",
    "while status and combCount <= len(transactions):\n",
    "    combData = combinations(itemsets, combCount)\n",
    "    temp ={}\n",
    "    for com in combData:\n",
    "        for trans in transactions:\n",
    "            count = 0\n",
    "            for i in com:\n",
    "                count += trans.count(i)\n",
    "            if count == len(com):\n",
    "                strs = \",\".join(com)\n",
    "                if strs in temp:\n",
    "                    temp[strs] += 1\n",
    "                else:\n",
    "                    temp[strs] = 1\n",
    "    for i in temp:\n",
    "        if i in dataDict:\n",
    "            dataDict[i] += temp[i]\n",
    "        else:\n",
    "            dataDict[i] = temp[i]\n",
    "    combCount += 1"
   ]
  },
  {
   "cell_type": "markdown",
   "metadata": {},
   "source": [
    "# PRINTING ALL ITEMS AND THEIR CORRESPONDING SUPPORTS AND FILTERING ITEMS WHOSE SUPPORT IS >= MIN SUPPORT"
   ]
  },
  {
   "cell_type": "code",
   "execution_count": 7,
   "metadata": {},
   "outputs": [
    {
     "name": "stdout",
     "output_type": "stream",
     "text": [
      "================================= SUPPORTS ON ITEMSETS =================================\n",
      "\n",
      "A BEGINNER’S GUIDE : 11\n",
      "JAVA: THE COMPLETE REFERENCE : 10\n",
      "JAVA FOR DUMMIES : 13\n",
      "ANDROID PROGRAMMING: THE BIG NERD RANCH : 13\n",
      "HEAD FIRST JAVA 2ND EDITION : 8\n",
      "BEGINNING PROGRAMMING WITH JAVA : 6\n",
      "C++ PROGRAMMING IN EASY STEPS : 1\n",
      "HTML AND CSS: DESIGN AND BUILD WEBSITES : 2\n",
      "A BEGINNER’S GUIDE,JAVA: THE COMPLETE REFERENCE : 9\n",
      "A BEGINNER’S GUIDE,JAVA FOR DUMMIES : 9\n",
      "A BEGINNER’S GUIDE,ANDROID PROGRAMMING: THE BIG NERD RANCH : 6\n",
      "A BEGINNER’S GUIDE,HEAD FIRST JAVA 2ND EDITION : 3\n",
      "A BEGINNER’S GUIDE,BEGINNING PROGRAMMING WITH JAVA : 1\n",
      "A BEGINNER’S GUIDE,HTML AND CSS: DESIGN AND BUILD WEBSITES : 2\n",
      "JAVA: THE COMPLETE REFERENCE,JAVA FOR DUMMIES : 10\n",
      "JAVA: THE COMPLETE REFERENCE,ANDROID PROGRAMMING: THE BIG NERD RANCH : 6\n",
      "JAVA: THE COMPLETE REFERENCE,HEAD FIRST JAVA 2ND EDITION : 1\n",
      "JAVA: THE COMPLETE REFERENCE,HTML AND CSS: DESIGN AND BUILD WEBSITES : 2\n",
      "JAVA FOR DUMMIES,ANDROID PROGRAMMING: THE BIG NERD RANCH : 9\n",
      "JAVA FOR DUMMIES,HEAD FIRST JAVA 2ND EDITION : 3\n",
      "JAVA FOR DUMMIES,BEGINNING PROGRAMMING WITH JAVA : 1\n",
      "JAVA FOR DUMMIES,HTML AND CSS: DESIGN AND BUILD WEBSITES : 2\n",
      "ANDROID PROGRAMMING: THE BIG NERD RANCH,HEAD FIRST JAVA 2ND EDITION : 6\n",
      "ANDROID PROGRAMMING: THE BIG NERD RANCH,BEGINNING PROGRAMMING WITH JAVA : 3\n",
      "HEAD FIRST JAVA 2ND EDITION,BEGINNING PROGRAMMING WITH JAVA : 4\n",
      "BEGINNING PROGRAMMING WITH JAVA,C++ PROGRAMMING IN EASY STEPS : 1\n",
      "A BEGINNER’S GUIDE,JAVA: THE COMPLETE REFERENCE,JAVA FOR DUMMIES : 9\n",
      "A BEGINNER’S GUIDE,JAVA: THE COMPLETE REFERENCE,ANDROID PROGRAMMING: THE BIG NERD RANCH : 5\n",
      "A BEGINNER’S GUIDE,JAVA: THE COMPLETE REFERENCE,HEAD FIRST JAVA 2ND EDITION : 1\n",
      "A BEGINNER’S GUIDE,JAVA: THE COMPLETE REFERENCE,HTML AND CSS: DESIGN AND BUILD WEBSITES : 2\n",
      "A BEGINNER’S GUIDE,JAVA FOR DUMMIES,ANDROID PROGRAMMING: THE BIG NERD RANCH : 5\n",
      "A BEGINNER’S GUIDE,JAVA FOR DUMMIES,HEAD FIRST JAVA 2ND EDITION : 1\n",
      "A BEGINNER’S GUIDE,JAVA FOR DUMMIES,HTML AND CSS: DESIGN AND BUILD WEBSITES : 2\n",
      "A BEGINNER’S GUIDE,ANDROID PROGRAMMING: THE BIG NERD RANCH,HEAD FIRST JAVA 2ND EDITION : 2\n",
      "A BEGINNER’S GUIDE,HEAD FIRST JAVA 2ND EDITION,BEGINNING PROGRAMMING WITH JAVA : 1\n",
      "JAVA: THE COMPLETE REFERENCE,JAVA FOR DUMMIES,ANDROID PROGRAMMING: THE BIG NERD RANCH : 6\n",
      "JAVA: THE COMPLETE REFERENCE,JAVA FOR DUMMIES,HEAD FIRST JAVA 2ND EDITION : 1\n",
      "JAVA: THE COMPLETE REFERENCE,JAVA FOR DUMMIES,HTML AND CSS: DESIGN AND BUILD WEBSITES : 2\n",
      "JAVA: THE COMPLETE REFERENCE,ANDROID PROGRAMMING: THE BIG NERD RANCH,HEAD FIRST JAVA 2ND EDITION : 1\n",
      "JAVA FOR DUMMIES,ANDROID PROGRAMMING: THE BIG NERD RANCH,HEAD FIRST JAVA 2ND EDITION : 3\n",
      "JAVA FOR DUMMIES,ANDROID PROGRAMMING: THE BIG NERD RANCH,BEGINNING PROGRAMMING WITH JAVA : 1\n",
      "JAVA FOR DUMMIES,HEAD FIRST JAVA 2ND EDITION,BEGINNING PROGRAMMING WITH JAVA : 1\n",
      "ANDROID PROGRAMMING: THE BIG NERD RANCH,HEAD FIRST JAVA 2ND EDITION,BEGINNING PROGRAMMING WITH JAVA : 2\n",
      "A BEGINNER’S GUIDE,JAVA: THE COMPLETE REFERENCE,JAVA FOR DUMMIES,ANDROID PROGRAMMING: THE BIG NERD RANCH : 5\n",
      "A BEGINNER’S GUIDE,JAVA: THE COMPLETE REFERENCE,JAVA FOR DUMMIES,HEAD FIRST JAVA 2ND EDITION : 1\n",
      "A BEGINNER’S GUIDE,JAVA: THE COMPLETE REFERENCE,JAVA FOR DUMMIES,HTML AND CSS: DESIGN AND BUILD WEBSITES : 2\n",
      "A BEGINNER’S GUIDE,JAVA: THE COMPLETE REFERENCE,ANDROID PROGRAMMING: THE BIG NERD RANCH,HEAD FIRST JAVA 2ND EDITION : 1\n",
      "A BEGINNER’S GUIDE,JAVA FOR DUMMIES,ANDROID PROGRAMMING: THE BIG NERD RANCH,HEAD FIRST JAVA 2ND EDITION : 1\n",
      "JAVA: THE COMPLETE REFERENCE,JAVA FOR DUMMIES,ANDROID PROGRAMMING: THE BIG NERD RANCH,HEAD FIRST JAVA 2ND EDITION : 1\n",
      "JAVA FOR DUMMIES,ANDROID PROGRAMMING: THE BIG NERD RANCH,HEAD FIRST JAVA 2ND EDITION,BEGINNING PROGRAMMING WITH JAVA : 1\n",
      "A BEGINNER’S GUIDE,JAVA: THE COMPLETE REFERENCE,JAVA FOR DUMMIES,ANDROID PROGRAMMING: THE BIG NERD RANCH,HEAD FIRST JAVA 2ND EDITION : 1\n",
      "\n",
      "\n"
     ]
    }
   ],
   "source": [
    "print(\"================================= SUPPORTS ON ITEMSETS =================================\")\n",
    "print('')\n",
    "assoItems = {}\n",
    "for i in dataDict:\n",
    "    if dataDict[i] >= minSupportValue:\n",
    "        assoItems[i] = dataDict[i]\n",
    "    print(i,':',dataDict[i])\n",
    "print('\\n')"
   ]
  },
  {
   "cell_type": "markdown",
   "metadata": {},
   "source": [
    "# PRINT FREQUENT ITEMSETS"
   ]
  },
  {
   "cell_type": "code",
   "execution_count": 8,
   "metadata": {},
   "outputs": [
    {
     "name": "stdout",
     "output_type": "stream",
     "text": [
      "================================= FREQUENT ITEMSETS =================================\n",
      "\n",
      "A BEGINNER’S GUIDE\n",
      "JAVA: THE COMPLETE REFERENCE\n",
      "JAVA FOR DUMMIES\n",
      "ANDROID PROGRAMMING: THE BIG NERD RANCH\n",
      "HEAD FIRST JAVA 2ND EDITION\n",
      "A BEGINNER’S GUIDE,JAVA: THE COMPLETE REFERENCE\n",
      "A BEGINNER’S GUIDE,JAVA FOR DUMMIES\n",
      "JAVA: THE COMPLETE REFERENCE,JAVA FOR DUMMIES\n",
      "JAVA FOR DUMMIES,ANDROID PROGRAMMING: THE BIG NERD RANCH\n",
      "A BEGINNER’S GUIDE,JAVA: THE COMPLETE REFERENCE,JAVA FOR DUMMIES\n"
     ]
    }
   ],
   "source": [
    "print(\"================================= FREQUENT ITEMSETS =================================\")\n",
    "print('')\n",
    "for i in assoItems:\n",
    "    print(i)\n",
    "if len(assoItems) == 0:\n",
    "    print('No frequent itemset can be determined with the minimum support of ' + str(minSupport)+'%')"
   ]
  },
  {
   "cell_type": "markdown",
   "metadata": {},
   "source": [
    "# CALCULATING THE CONFIDENCE OF ITEMS WHOSE SUPPORT IS >= MIN SUPPORT, PRINTING ALL ITEMS THAT MET THE CONFIDENCE WITH THEIR CORRESPONDING SUPPORTS"
   ]
  },
  {
   "cell_type": "code",
   "execution_count": 9,
   "metadata": {},
   "outputs": [
    {
     "name": "stdout",
     "output_type": "stream",
     "text": [
      "\n",
      "\n",
      "============== ALL ASSOCIATION RULES (Min Support: 40.0 Confidence:60.0)==============\n",
      "\n",
      "A BEGINNER’S GUIDE -> JAVA: THE COMPLETE REFERENCE  | Support = 45.0%  | Confidence = 81.81818181818183%\n",
      "JAVA: THE COMPLETE REFERENCE -> A BEGINNER’S GUIDE  | Support = 45.0%  | Confidence = 90.0%\n",
      "A BEGINNER’S GUIDE -> JAVA FOR DUMMIES  | Support = 45.0%  | Confidence = 81.81818181818183%\n",
      "JAVA FOR DUMMIES -> A BEGINNER’S GUIDE  | Support = 45.0%  | Confidence = 69.23076923076923%\n",
      "JAVA: THE COMPLETE REFERENCE -> JAVA FOR DUMMIES  | Support = 50.0%  | Confidence = 100.0%\n",
      "JAVA FOR DUMMIES -> JAVA: THE COMPLETE REFERENCE  | Support = 50.0%  | Confidence = 76.92307692307693%\n",
      "JAVA FOR DUMMIES -> ANDROID PROGRAMMING: THE BIG NERD RANCH  | Support = 45.0%  | Confidence = 69.23076923076923%\n",
      "ANDROID PROGRAMMING: THE BIG NERD RANCH -> JAVA FOR DUMMIES  | Support = 45.0%  | Confidence = 69.23076923076923%\n",
      "A BEGINNER’S GUIDE -> JAVA: THE COMPLETE REFERENCE,JAVA FOR DUMMIES  | Support = 45.0%  | Confidence = 81.81818181818183%\n",
      "JAVA: THE COMPLETE REFERENCE -> A BEGINNER’S GUIDE,JAVA FOR DUMMIES  | Support = 45.0%  | Confidence = 90.0%\n",
      "JAVA FOR DUMMIES -> A BEGINNER’S GUIDE,JAVA: THE COMPLETE REFERENCE  | Support = 45.0%  | Confidence = 69.23076923076923%\n",
      "A BEGINNER’S GUIDE,JAVA: THE COMPLETE REFERENCE -> JAVA FOR DUMMIES  | Support = 45.0%  | Confidence = 100.0%\n",
      "A BEGINNER’S GUIDE,JAVA FOR DUMMIES -> JAVA: THE COMPLETE REFERENCE  | Support = 45.0%  | Confidence = 100.0%\n",
      "JAVA: THE COMPLETE REFERENCE,JAVA FOR DUMMIES -> A BEGINNER’S GUIDE  | Support = 45.0%  | Confidence = 90.0%\n"
     ]
    }
   ],
   "source": [
    "print('\\n')\n",
    "print(\"============== ALL ASSOCIATION RULES (Min Support: \" \n",
    "      +str(minSupport)+\" Confidence:\" +str(confidence)+\")==============\")\n",
    "\n",
    "print('')\n",
    "confidenceFlag = False\n",
    "for i in assoItems:\n",
    "    if len(i.split(',')) < 2:\n",
    "        continue\n",
    "    assoList = i.split(',')\n",
    "    nItem = assoItems[i]\n",
    "    altWords = []\n",
    "    for j in range(1,len(assoList)):\n",
    "        comb = combinations(assoList, j)\n",
    "        combWords = [w for w in comb]\n",
    "        d = len(combWords) - 1\n",
    "        for c in range(len(combWords)):\n",
    "            altWords.append(combWords[c])\n",
    "\n",
    "    n = len(altWords) - 1\n",
    "    for w in range(len(altWords)):\n",
    "        item1 = \",\".join(altWords[w])\n",
    "        item2 = \",\".join(altWords[n-w])\n",
    "        \n",
    "        nTransactions = len(transactions)\n",
    "        support = (nItem/nTransactions)* 100\n",
    "        \n",
    "        if item1 in assoItems and support >= minSupport:\n",
    "            nItem1 = assoItems[item1]\n",
    "            conf1 = (nItem/nItem1)* 100\n",
    "            if conf1 >= confidence:\n",
    "                confidenceFlag = True\n",
    "                print(item1, '->', item2, \" | Support = \" + str(support)+'%', \n",
    "                 \" | Confidence = \" + str(conf1)+'%')\n",
    "        \n",
    "if not confidenceFlag:\n",
    "    print('No association rules can be determined with the minimum support of ' + str(minSupport) +'% and confidence of '+ str(confidence)+'%')"
   ]
  },
  {
   "cell_type": "code",
   "execution_count": null,
   "metadata": {},
   "outputs": [],
   "source": []
  },
  {
   "cell_type": "code",
   "execution_count": null,
   "metadata": {},
   "outputs": [],
   "source": []
  }
 ],
 "metadata": {
  "kernelspec": {
   "display_name": "Python 3",
   "language": "python",
   "name": "python3"
  },
  "language_info": {
   "codemirror_mode": {
    "name": "ipython",
    "version": 3
   },
   "file_extension": ".py",
   "mimetype": "text/x-python",
   "name": "python",
   "nbconvert_exporter": "python",
   "pygments_lexer": "ipython3",
   "version": "3.8.3"
  }
 },
 "nbformat": 4,
 "nbformat_minor": 4
}
